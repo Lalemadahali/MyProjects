{
 "cells": [
  {
   "cell_type": "code",
   "execution_count": 4,
   "metadata": {},
   "outputs": [],
   "source": [
    "import pandas as pd\n",
    "from sklearn.feature_extraction.text import TfidfTransformer\n",
    "from sklearn.feature_extraction.text import TfidfVectorizer\n",
    "\n",
    "#dataset=pd.read_csv('C:/Users/Elahe/Box/papers/SBP-BRIMS/Data/sample.txt')\n",
    "\n",
    "dataset=[\"Social networks are a major part of todays life.\",\n",
    "\"They are used for entertainment, news source, advertisements, and branding for businesses and individuals alike.\", \n",
    "\"However, use of automated accounts, also known as bots will pollute the environment.\"]\n",
    "\n",
    "\n"
   ]
  },
  {
   "cell_type": "code",
   "execution_count": 5,
   "metadata": {},
   "outputs": [
    {
     "name": "stdout",
     "output_type": "stream",
     "text": [
      "                  TF-IDF\n",
      "life            0.373801\n",
      "todays          0.373801\n",
      "social          0.373801\n",
      "part            0.373801\n",
      "networks        0.373801\n",
      "major           0.373801\n",
      "are             0.284285\n",
      "of              0.284285\n",
      "accounts        0.000000\n",
      "used            0.000000\n",
      "use             0.000000\n",
      "they            0.000000\n",
      "the             0.000000\n",
      "source          0.000000\n",
      "pollute         0.000000\n",
      "news            0.000000\n",
      "known           0.000000\n",
      "advertisements  0.000000\n",
      "individuals     0.000000\n",
      "however         0.000000\n",
      "for             0.000000\n",
      "environment     0.000000\n",
      "entertainment   0.000000\n",
      "businesses      0.000000\n",
      "branding        0.000000\n"
     ]
    }
   ],
   "source": [
    "# using Vectorizer\n",
    "\n",
    "tfIdfVectorizer=TfidfVectorizer(use_idf=True)\n",
    "tfIdf = tfIdfVectorizer.fit_transform(dataset)\n",
    "df = pd.DataFrame(tfIdf[0].T.todense(), index=tfIdfVectorizer.get_feature_names(), columns=[\"TF-IDF\"])\n",
    "df = df.sort_values('TF-IDF', ascending=False)\n",
    "print (df.head(25))"
   ]
  },
  {
   "cell_type": "code",
   "execution_count": 6,
   "metadata": {},
   "outputs": [],
   "source": [
    "# using transformer\n",
    "\n",
    "from sklearn.feature_extraction.text import TfidfTransformer\n",
    "from sklearn.feature_extraction.text import CountVectorizer"
   ]
  },
  {
   "cell_type": "code",
   "execution_count": 7,
   "metadata": {},
   "outputs": [
    {
     "name": "stdout",
     "output_type": "stream",
     "text": [
      "                  TF-IDF\n",
      "life            0.373801\n",
      "todays          0.373801\n",
      "social          0.373801\n",
      "part            0.373801\n",
      "networks        0.373801\n",
      "major           0.373801\n",
      "are             0.284285\n",
      "of              0.284285\n",
      "accounts        0.000000\n",
      "used            0.000000\n",
      "use             0.000000\n",
      "they            0.000000\n",
      "the             0.000000\n",
      "source          0.000000\n",
      "pollute         0.000000\n",
      "news            0.000000\n",
      "known           0.000000\n",
      "advertisements  0.000000\n",
      "individuals     0.000000\n",
      "however         0.000000\n",
      "for             0.000000\n",
      "environment     0.000000\n",
      "entertainment   0.000000\n",
      "businesses      0.000000\n",
      "branding        0.000000\n"
     ]
    }
   ],
   "source": [
    "tfIdfTransformer = TfidfTransformer(use_idf=True)\n",
    "countVectorizer = CountVectorizer()\n",
    "wordCount = countVectorizer.fit_transform(dataset)\n",
    "newTfIdf = tfIdfTransformer.fit_transform(wordCount)\n",
    "df = pd.DataFrame(newTfIdf[0].T.todense(), index=countVectorizer.get_feature_names(), columns=[\"TF-IDF\"])\n",
    "df = df.sort_values('TF-IDF', ascending=False)\n",
    "print (df.head(25))"
   ]
  },
  {
   "cell_type": "code",
   "execution_count": null,
   "metadata": {},
   "outputs": [],
   "source": []
  }
 ],
 "metadata": {
  "kernelspec": {
   "display_name": "Python 3 (ipykernel)",
   "language": "python",
   "name": "python3"
  },
  "language_info": {
   "codemirror_mode": {
    "name": "ipython",
    "version": 3
   },
   "file_extension": ".py",
   "mimetype": "text/x-python",
   "name": "python",
   "nbconvert_exporter": "python",
   "pygments_lexer": "ipython3",
   "version": "3.9.12"
  }
 },
 "nbformat": 4,
 "nbformat_minor": 2
}
